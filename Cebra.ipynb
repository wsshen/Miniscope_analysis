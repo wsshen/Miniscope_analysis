{
 "cells": [
  {
   "cell_type": "code",
   "execution_count": 1,
   "id": "bb3a91c4-8121-45b9-a591-9c4d596f2b8d",
   "metadata": {},
   "outputs": [],
   "source": [
    "import cebra\n",
    "from cebra import CEBRA"
   ]
  },
  {
   "cell_type": "code",
   "execution_count": 2,
   "id": "4c6131a1-a1a4-456f-a655-506158ed42d9",
   "metadata": {},
   "outputs": [],
   "source": [
    "# Create a .npz file\n",
    "import numpy as np\n",
    "\n",
    "X = np.random.normal(0,1,(100,3))\n",
    "X_new = np.random.normal(0,1,(100,4))\n",
    "np.savez(\"neural_data\", neural = X, new_neural = X_new)\n",
    "\n",
    "# Create a .h5 file, containing a pd.DataFrame\n",
    "import pandas as pd\n",
    "\n",
    "X_continuous = np.random.normal(0,1,(100,3))\n",
    "X_discrete = np.random.randint(0,10,(100, ))\n",
    "df = pd.DataFrame(np.array(X_continuous), columns=[\"continuous1\", \"continuous2\", \"continuous3\"])\n",
    "df[\"discrete\"] = X_discrete\n",
    "df.to_hdf(\"auxiliary_behavior_data.h5\", key=\"auxiliary_variables\")"
   ]
  },
  {
   "cell_type": "code",
   "execution_count": 3,
   "id": "ebc4d46b-c1e2-44bc-a186-bc7a8696b825",
   "metadata": {},
   "outputs": [],
   "source": [
    "\n",
    "import cebra\n",
    "\n",
    "# Load the .npz\n",
    "neural_data = cebra.load_data(file=\"neural_data.npz\", key=\"neural\")\n",
    "\n",
    "# ... and similarly load the .h5 file, providing the columns to keep\n",
    "continuous_label = cebra.load_data(file=\"auxiliary_behavior_data.h5\", key=\"auxiliary_variables\", columns=[\"continuous1\", \"continuous2\", \"continuous3\"])\n",
    "discrete_label = cebra.load_data(file=\"auxiliary_behavior_data.h5\", key=\"auxiliary_variables\", columns=[\"discrete\"]).flatten()\n"
   ]
  },
  {
   "cell_type": "code",
   "execution_count": null,
   "id": "46fb7955-b066-4726-b2b9-73ce03e81949",
   "metadata": {},
   "outputs": [],
   "source": []
  }
 ],
 "metadata": {
  "kernelspec": {
   "display_name": "Python 3 (ipykernel)",
   "language": "python",
   "name": "python3"
  },
  "language_info": {
   "codemirror_mode": {
    "name": "ipython",
    "version": 3
   },
   "file_extension": ".py",
   "mimetype": "text/x-python",
   "name": "python",
   "nbconvert_exporter": "python",
   "pygments_lexer": "ipython3",
   "version": "3.8.0"
  }
 },
 "nbformat": 4,
 "nbformat_minor": 5
}
