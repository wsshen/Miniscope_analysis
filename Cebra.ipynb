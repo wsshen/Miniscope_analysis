{
 "cells": [
  {
   "cell_type": "code",
   "execution_count": 141,
   "id": "6ec1b3c3",
   "metadata": {},
   "outputs": [],
   "source": [
    "import cebra\n",
    "from cebra import CEBRA"
   ]
  },
  {
   "cell_type": "code",
   "execution_count": 142,
   "id": "2fc3b0af",
   "metadata": {},
   "outputs": [],
   "source": [
    "import csv\n",
    "from edgeDetection import *\n",
    "import os\n",
    "import matplotlib\n",
    "# matplotlib.use('PS')\n",
    "import matplotlib.pyplot as plt\n",
    "import numpy as np\n",
    "from readTabTxtFile import *\n",
    "from calTempResolution import *\n",
    "from trimmedTriggerTime import *\n",
    "import seaborn as sn\n",
    "import scipy\n",
    "import pickle\n"
   ]
  },
  {
   "cell_type": "code",
   "execution_count": 143,
   "id": "bf7974e1",
   "metadata": {},
   "outputs": [],
   "source": [
    "from sklearn.model_selection import train_test_split\n",
    "import tempfile\n",
    "from pathlib import Path\n",
    "import gc\n",
    "\n",
    "gc.collect()\n",
    "import torch\n",
    "\n",
    "torch.cuda.empty_cache()"
   ]
  },
  {
   "cell_type": "code",
   "execution_count": 144,
   "id": "e978d454",
   "metadata": {},
   "outputs": [],
   "source": [
    "directory = \"/media/watson/UbuntuHDD/feng_Xin/Xin/Miniscope/5133307132023/reward_seeking/days_with_miniscope_recording/day26/15_18_15\"\n",
    "\n",
    "\n",
    "\n",
    "# for 51331, 51332 and 51333\n",
    "frameInput = 3\n",
    "lickTrigNum = 2\n",
    "pokeTrigNum = 0\n",
    "caTimeNum = 3\n",
    "pumpTrigNum = 1\n",
    "\n",
    "validIdFile = \"validIdx.txt\"\n",
    "cellTracesFile = \"cellTraces_norm.txt\"\n",
    "pokeTriggerFile = \"stim\"+str(pokeTrigNum)+\".txt\"\n",
    "lickTriggerFile = \"stim\"+str(lickTrigNum)+\".txt\"\n",
    "pumpTriggerFile = \"stim\"+str(pumpTrigNum)+\".txt\"\n",
    "\n",
    "caTimeFile = \"stim\"+str(caTimeNum)+\".txt\"\n",
    "plotSavingFolder = 'Plots'\n",
    "videoFrameNum = 1000\n",
    "\n",
    "with open(directory + os.sep + 'frame_correction_pos.pickle','rb') as f:\n",
    "    frame_correction = pickle.load(f)\n",
    "\n",
    "def findClosestTimeIndex(t,tSeries):\n",
    "    tDiff = [abs(t-i) for i in tSeries]\n",
    "    nd_tDiff = np.array(tDiff)\n",
    "    pos = np.argmin(nd_tDiff)\n",
    "    return pos\n",
    "def findClosestLickIndex(t1Series,refT,tSeries):\n",
    "    tDiff = [[i-refT,i] for i in t1Series if i-refT>=0]\n",
    "    nd_tDiff = np.array(tDiff)\n",
    "    lick_pos = np.argmin(nd_tDiff[:,0])\n",
    "    pos = findClosestTimeIndex(nd_tDiff[lick_pos,1],tSeries)\n",
    "    return pos\n",
    "\n",
    "def findAfterClosestIndex(t1Series,refT,tSeries):\n",
    "    tDiff = [[i-refT,i] for i in t1Series if i-refT>=0]\n",
    "    nd_tDiff = np.array(tDiff)\n",
    "    lick_pos = np.argmin(nd_tDiff[:,0])\n",
    "    pos = findClosestTimeIndex(nd_tDiff[lick_pos,1],tSeries)\n",
    "    return pos\n",
    "\n",
    "def findBeforeClosestIndex(t1Series,refT,tSeries):\n",
    "    tDiff = [[i-refT,i] for i in t1Series if i-refT<=0]\n",
    "    nd_tDiff = np.array(tDiff)\n",
    "    lick_pos = np.argmax(nd_tDiff[:,0])\n",
    "    pos = findClosestTimeIndex(nd_tDiff[lick_pos,1],tSeries)\n",
    "    return pos\n",
    "\n",
    "def findAllLickIndices(t1Series,refT,tSeries,window):\n",
    "    pos=[]\n",
    "    tDiff = [[i - tSeries[refT], i] for i in t1Series if i-tSeries[refT]>0 and i-tSeries[refT]-window*caFrameDur<0]\n",
    "    nd_tDiff = np.array(tDiff)\n",
    "    for i in nd_tDiff:\n",
    "        pos_temp = findClosestTimeIndex(i[1],tSeries)\n",
    "        pos.append(pos_temp)\n",
    "    return pos\n",
    "\n",
    "def interpolateNaN(x):\n",
    "    loc = np.argwhere(np.isnan(x))\n",
    "    for i in loc:\n",
    "        x[i[0]] = (x[i[0]-1] + x[i[0]+1])/2\n",
    "    return x\n",
    "with open(directory+os.sep+cellTracesFile, \"r\", newline=\"\\n\") as readFile:\n",
    "    data_reader = readFile.readlines()\n",
    "# with open(directory+os.sep+validIdFile, \"r\", newline=\"\") as readFile:\n",
    "#     id_reader = readFile.readlines()\n",
    "# with open(directory+os.sep+triggerFile, \"r\", newline=\"\") as readFile:\n",
    "#     trig_reader = readFile.readlines()\n",
    "# with open(directory+os.sep+caTimeFile, \"r\", newline=\"\") as readFile:\n",
    "#     caTime_reader = readFile.readlines()\n",
    "\n",
    "caData = readTabTxtFile(directory+os.sep+cellTracesFile, 'float')\n",
    "valid_idx = readTabTxtFile(directory+os.sep+validIdFile, 'int')\n",
    "pokeTrigTime = readTabTxtFile(directory+os.sep+pokeTriggerFile, 'float')\n",
    "lickTrigTime = readTabTxtFile(directory+os.sep+lickTriggerFile, 'float')\n",
    "caTime = readTabTxtFile(directory+os.sep+caTimeFile, 'float')\n",
    "caFrameDur = calTempResolution(caTime)\n",
    "pumpTrigTime = readTabTxtFile(directory+os.sep+pumpTriggerFile, 'float')\n",
    "\n",
    "# valid_idx = [int(i) for i in id_reader[0].strip().split(\"\\t\")]\n",
    "# caTime = [float(i) for i in caTime_reader[0].strip().split(\"\\t\")]\n",
    "# trigTime = [float(i) for i in trig_reader[0].strip().split(\"\\t\")]\n",
    "numVideoShift = 0\n",
    "preTrigWindow_poke = -15\n",
    "postTrigWindow_poke = 15\n",
    "preTrigWindow_lick = -15\n",
    "postTrigWindow_lick = 15\n",
    "len_window = postTrigWindow_poke-preTrigWindow_poke\n",
    "trimmed_pokeTrigTime = trimmedTriggerTime(pokeTrigTime,caTime,videoFrameNum*numVideoShift,-1)\n",
    "trimmed_lickTrigTime = trimmedTriggerTime(lickTrigTime,caTime,videoFrameNum*numVideoShift,-1)\n",
    "trimmed_pumpTrigTime = trimmedTriggerTime(pumpTrigTime,caTime,videoFrameNum*numVideoShift,-1)\n",
    "\n",
    "# numTrig = len(trimmed_pokeTrigTime)\n",
    "numTrig_pump = len(trimmed_pumpTrigTime)\n",
    "numTrig_poke = len(trimmed_pokeTrigTime)\n",
    "numTrig_lick = len(trimmed_lickTrigTime)\n",
    "\n",
    "numData = len(caData)\n",
    "numAnalysisWindow = -1*preTrigWindow_poke+postTrigWindow_poke\n",
    "pokeTimeAdj = 0.03\n",
    "\n",
    "# zscore_ca_good = np.zeros((len(valid_idx),numTrig_pump,len_window))\n",
    "# zscore_ca_poke = np.zeros((len(valid_idx),1,len_window))\n",
    "# zscore_ca_lick = np.zeros((len(valid_idx),1,len_window))\n",
    "\n",
    "# zscore_ca_good = np.array([])\n",
    "# zscore_ca_poke = np.array([])\n",
    "# zscore_ca_lick = np.array([])\n",
    "# zscore_ca_noTrig = np.array([])"
   ]
  },
  {
   "cell_type": "code",
   "execution_count": 145,
   "id": "ba8f8042",
   "metadata": {},
   "outputs": [],
   "source": [
    "\n",
    "def findClosestTimeIndex(t,tSeries):\n",
    "    tDiff = [abs(t-i) for i in tSeries]\n",
    "    nd_tDiff = np.array(tDiff)\n",
    "    pos = np.argmin(nd_tDiff)\n",
    "    return pos\n",
    "\n",
    "trigger_variable = np.zeros((numData,1))\n",
    "\n",
    "for i in np.arange(0,numTrig_poke,1):\n",
    "    temp_pos = findClosestTimeIndex(trimmed_pokeTrigTime[i],caTime)\n",
    "    trigger_variable[temp_pos,0]=1\n",
    "\n",
    "for i in np.arange(0,numTrig_lick,1):\n",
    "    temp_pos = findClosestTimeIndex(trimmed_lickTrigTime[i],caTime)\n",
    "    trigger_variable[temp_pos,0]=2\n"
   ]
  },
  {
   "cell_type": "code",
   "execution_count": 146,
   "id": "95108b13",
   "metadata": {},
   "outputs": [
    {
     "name": "stdout",
     "output_type": "stream",
     "text": [
      "(1, 89355)\n",
      "(1, 89355)\n",
      "(2, 89355)\n",
      "(3, 89355)\n",
      "(4, 89355)\n",
      "(5, 89355)\n",
      "(6, 89355)\n",
      "(7, 89355)\n",
      "(8, 89355)\n",
      "(9, 89355)\n",
      "(10, 89355)\n",
      "(11, 89355)\n",
      "(12, 89355)\n",
      "(13, 89355)\n",
      "(14, 89355)\n",
      "(15, 89355)\n",
      "(16, 89355)\n",
      "(17, 89355)\n",
      "(18, 89355)\n",
      "(19, 89355)\n",
      "(20, 89355)\n",
      "(21, 89355)\n",
      "(22, 89355)\n",
      "(23, 89355)\n",
      "(24, 89355)\n",
      "(25, 89355)\n",
      "(26, 89355)\n",
      "(27, 89355)\n",
      "(28, 89355)\n",
      "(29, 89355)\n",
      "(30, 89355)\n"
     ]
    }
   ],
   "source": [
    "zscore_ca_trace = np.array([])\n",
    "for i in range(len(valid_idx)):\n",
    "    ca_trace = [float(k) for k in data_reader[valid_idx[i]].strip().split(\"\\t\")]\n",
    "    if frame_correction:\n",
    "        ca_trace_corrected_temp = ca_trace[0:frame_correction[0]+1]+ [float('NaN')]*frame_correction[1] + ca_trace[frame_correction[0]+1:-1]\n",
    "        ca_trace_corrected = interpolateNaN(ca_trace_corrected_temp)\n",
    "\n",
    "    else:\n",
    "        ca_trace_corrected = ca_trace\n",
    "    if i == 0:\n",
    "        zscore_ca_trace = scipy.stats.zscore(ca_trace_corrected)\n",
    "        zscore_ca_trace = np.expand_dims(zscore_ca_trace,axis=0)\n",
    "        print(zscore_ca_trace.shape)\n",
    "    else:\n",
    "        print(zscore_ca_trace.shape)\n",
    "        zscore_ca_trace = np.append(zscore_ca_trace,np.expand_dims(scipy.stats.zscore(ca_trace_corrected),axis=0),axis=0)\n",
    "\n",
    "zscore_ca_trace_T = np.transpose(zscore_ca_trace)"
   ]
  },
  {
   "cell_type": "code",
   "execution_count": 147,
   "id": "c0c9c584",
   "metadata": {},
   "outputs": [],
   "source": [
    "# params_grid = dict(\n",
    "#     output_dimension = [3, 5],\n",
    "#     learning_rate = [0.001],\n",
    "#     time_offsets = [1,10,100],\n",
    "#     max_iterations = 10000,\n",
    "#     batch_size = 1024,\n",
    "\n",
    "\n",
    "#     temperature = [0.01,0.1,1,10],\n",
    "#     verbose = True)\n",
    "\n",
    "# datasets = {\"dataset1\": zscore_ca_trace_T,                      # time contrastive learning\n",
    "# }\n",
    "\n",
    "\n",
    "# # 3. Create and fit the grid search to your data\n",
    "# grid_search = cebra.grid_search.GridSearch()\n",
    "# grid_search.fit_models(datasets=datasets, params=params_grid, models_dir=\"saved_models\")"
   ]
  },
  {
   "cell_type": "code",
   "execution_count": 148,
   "id": "b0f3e585",
   "metadata": {},
   "outputs": [],
   "source": [
    "# # 4. Get the results\n",
    "# df_results = grid_search.get_df_results(models_dir=\"saved_models\")\n",
    "\n",
    "# # 5. Get the best model for a given dataset\n",
    "# best_model, best_model_name = grid_search.get_best_model(dataset_name=\"dataset1\", models_dir=\"saved_models\")"
   ]
  },
  {
   "cell_type": "code",
   "execution_count": 149,
   "id": "46fb7955-b066-4726-b2b9-73ce03e81949",
   "metadata": {},
   "outputs": [
    {
     "name": "stderr",
     "output_type": "stream",
     "text": [
      "behavior_pos: -49.9312 behavior_neg:  49.9556 behavior_total:  0.0244 time_pos: -99.9949 time_neg:  106.9257 time_total:  6.9308: 100%|██████████| 10000/10000 [04:14<00:00, 39.27it/s]\n"
     ]
    },
    {
     "data": {
      "text/html": [
       "<style>#sk-container-id-15 {color: black;background-color: white;}#sk-container-id-15 pre{padding: 0;}#sk-container-id-15 div.sk-toggleable {background-color: white;}#sk-container-id-15 label.sk-toggleable__label {cursor: pointer;display: block;width: 100%;margin-bottom: 0;padding: 0.3em;box-sizing: border-box;text-align: center;}#sk-container-id-15 label.sk-toggleable__label-arrow:before {content: \"▸\";float: left;margin-right: 0.25em;color: #696969;}#sk-container-id-15 label.sk-toggleable__label-arrow:hover:before {color: black;}#sk-container-id-15 div.sk-estimator:hover label.sk-toggleable__label-arrow:before {color: black;}#sk-container-id-15 div.sk-toggleable__content {max-height: 0;max-width: 0;overflow: hidden;text-align: left;background-color: #f0f8ff;}#sk-container-id-15 div.sk-toggleable__content pre {margin: 0.2em;color: black;border-radius: 0.25em;background-color: #f0f8ff;}#sk-container-id-15 input.sk-toggleable__control:checked~div.sk-toggleable__content {max-height: 200px;max-width: 100%;overflow: auto;}#sk-container-id-15 input.sk-toggleable__control:checked~label.sk-toggleable__label-arrow:before {content: \"▾\";}#sk-container-id-15 div.sk-estimator input.sk-toggleable__control:checked~label.sk-toggleable__label {background-color: #d4ebff;}#sk-container-id-15 div.sk-label input.sk-toggleable__control:checked~label.sk-toggleable__label {background-color: #d4ebff;}#sk-container-id-15 input.sk-hidden--visually {border: 0;clip: rect(1px 1px 1px 1px);clip: rect(1px, 1px, 1px, 1px);height: 1px;margin: -1px;overflow: hidden;padding: 0;position: absolute;width: 1px;}#sk-container-id-15 div.sk-estimator {font-family: monospace;background-color: #f0f8ff;border: 1px dotted black;border-radius: 0.25em;box-sizing: border-box;margin-bottom: 0.5em;}#sk-container-id-15 div.sk-estimator:hover {background-color: #d4ebff;}#sk-container-id-15 div.sk-parallel-item::after {content: \"\";width: 100%;border-bottom: 1px solid gray;flex-grow: 1;}#sk-container-id-15 div.sk-label:hover label.sk-toggleable__label {background-color: #d4ebff;}#sk-container-id-15 div.sk-serial::before {content: \"\";position: absolute;border-left: 1px solid gray;box-sizing: border-box;top: 0;bottom: 0;left: 50%;z-index: 0;}#sk-container-id-15 div.sk-serial {display: flex;flex-direction: column;align-items: center;background-color: white;padding-right: 0.2em;padding-left: 0.2em;position: relative;}#sk-container-id-15 div.sk-item {position: relative;z-index: 1;}#sk-container-id-15 div.sk-parallel {display: flex;align-items: stretch;justify-content: center;background-color: white;position: relative;}#sk-container-id-15 div.sk-item::before, #sk-container-id-15 div.sk-parallel-item::before {content: \"\";position: absolute;border-left: 1px solid gray;box-sizing: border-box;top: 0;bottom: 0;left: 50%;z-index: -1;}#sk-container-id-15 div.sk-parallel-item {display: flex;flex-direction: column;z-index: 1;position: relative;background-color: white;}#sk-container-id-15 div.sk-parallel-item:first-child::after {align-self: flex-end;width: 50%;}#sk-container-id-15 div.sk-parallel-item:last-child::after {align-self: flex-start;width: 50%;}#sk-container-id-15 div.sk-parallel-item:only-child::after {width: 0;}#sk-container-id-15 div.sk-dashed-wrapped {border: 1px dashed gray;margin: 0 0.4em 0.5em 0.4em;box-sizing: border-box;padding-bottom: 0.4em;background-color: white;}#sk-container-id-15 div.sk-label label {font-family: monospace;font-weight: bold;display: inline-block;line-height: 1.2em;}#sk-container-id-15 div.sk-label-container {text-align: center;}#sk-container-id-15 div.sk-container {/* jupyter's `normalize.less` sets `[hidden] { display: none; }` but bootstrap.min.css set `[hidden] { display: none !important; }` so we also need the `!important` here to be able to override the default hidden behavior on the sphinx rendered scikit-learn.org. See: https://github.com/scikit-learn/scikit-learn/issues/21755 */display: inline-block !important;position: relative;}#sk-container-id-15 div.sk-text-repr-fallback {display: none;}</style><div id=\"sk-container-id-15\" class=\"sk-top-container\"><div class=\"sk-text-repr-fallback\"><pre>CEBRA(batch_size=1024, conditional=&#x27;time_delta&#x27;, hybrid=True,\n",
       "      learning_rate=0.001, model_architecture=&#x27;offset10-model&#x27;,\n",
       "      output_dimension=5, temperature=0.01, time_offsets=10, verbose=True)</pre><b>In a Jupyter environment, please rerun this cell to show the HTML representation or trust the notebook. <br />On GitHub, the HTML representation is unable to render, please try loading this page with nbviewer.org.</b></div><div class=\"sk-container\" hidden><div class=\"sk-item\"><div class=\"sk-estimator sk-toggleable\"><input class=\"sk-toggleable__control sk-hidden--visually\" id=\"sk-estimator-id-15\" type=\"checkbox\" checked><label for=\"sk-estimator-id-15\" class=\"sk-toggleable__label sk-toggleable__label-arrow\">CEBRA</label><div class=\"sk-toggleable__content\"><pre>CEBRA(batch_size=1024, conditional=&#x27;time_delta&#x27;, hybrid=True,\n",
       "      learning_rate=0.001, model_architecture=&#x27;offset10-model&#x27;,\n",
       "      output_dimension=5, temperature=0.01, time_offsets=10, verbose=True)</pre></div></div></div></div></div>"
      ],
      "text/plain": [
       "CEBRA(batch_size=1024, conditional='time_delta', hybrid=True,\n",
       "      learning_rate=0.001, model_architecture='offset10-model',\n",
       "      output_dimension=5, temperature=0.01, time_offsets=10, verbose=True)"
      ]
     },
     "execution_count": 149,
     "metadata": {},
     "output_type": "execute_result"
    }
   ],
   "source": [
    "cebra_model = CEBRA(\n",
    "    model_architecture = \"offset10-model\",\n",
    "    temperature=0.01,\n",
    "    learning_rate = 0.001,\n",
    "    max_iterations = 10000,\n",
    "    batch_size = 1024,\n",
    "    max_adapt_iterations = 500,\n",
    "    time_offsets = 10,\n",
    "    output_dimension = 5,\n",
    "    device = \"cuda_if_available\",\n",
    "    verbose = True,\n",
    "    conditional='time_delta',\n",
    "    hybrid=True\n",
    ")\n",
    "\n",
    "# 2. Load example data\n",
    "# neural_data = cebra.load_data(file=\"neural_data.npz\", key=\"neural\")\n",
    "# new_neural_data = cebra.load_data(file=\"neural_data.npz\", key=\"new_neural\")\n",
    "# continuous_label = cebra.load_data(file=\"auxiliary_behavior_data.h5\", key=\"auxiliary_variables\", columns=[\"continuous1\", \"continuous2\", \"continuous3\"])\n",
    "# discrete_label = cebra.load_data(file=\"auxiliary_behavior_data.h5\", key=\"auxiliary_variables\", columns=[\"discrete\"]).flatten()\n",
    "\n",
    "# assert neural_data.shape == (100, 3)\n",
    "# assert new_neural_data.shape == (100, 4)\n",
    "# assert discrete_label.shape == (100, )\n",
    "# assert continuous_label.shape == (100, 3)\n",
    "\n",
    "# 3. Split data and labels\n",
    "(\n",
    "    train_data,\n",
    "    valid_data,\n",
    "    train_discrete_label,\n",
    "    valid_discrete_label,\n",
    ") = train_test_split(zscore_ca_trace_T,\n",
    "                     trigger_variable,\n",
    "                    test_size=0.3)\n",
    "\n",
    "# 4. Fit the model\n",
    "# time contrastive learning\n",
    "cebra_model.fit(train_data,train_discrete_label)"
   ]
  },
  {
   "cell_type": "code",
   "execution_count": 150,
   "id": "bba749de",
   "metadata": {},
   "outputs": [],
   "source": [
    "\n",
    "train_embedding = cebra_model.transform(train_data)\n",
    "valid_embedding = cebra_model.transform(valid_data)"
   ]
  },
  {
   "cell_type": "code",
   "execution_count": 151,
   "id": "f9b72251",
   "metadata": {},
   "outputs": [
    {
     "data": {
      "text/plain": [
       "<Axes3DSubplot:title={'center':'Embedding'}>"
      ]
     },
     "execution_count": 151,
     "metadata": {},
     "output_type": "execute_result"
    },
    {
     "data": {
      "image/png": "[encoded data removed]",
      "text/plain": [
       "<Figure size 500x500 with 1 Axes>"
      ]
     },
     "metadata": {},
     "output_type": "display_data"
    }
   ],
   "source": [
    "cebra.plot_embedding(train_embedding, embedding_labels=train_discrete_label[:,0])"
   ]
  },
  {
   "cell_type": "code",
   "execution_count": 152,
   "id": "0c4c4e39",
   "metadata": {},
   "outputs": [
    {
     "data": {
      "text/plain": [
       "<AxesSubplot:xlabel='Steps', ylabel='InfoNCE Loss'>"
      ]
     },
     "execution_count": 152,
     "metadata": {},
     "output_type": "execute_result"
    },
    {
     "data": {
      "image/png": "[encoded data removed]",
      "text/plain": [
       "<Figure size 700x400 with 1 Axes>"
      ]
     },
     "metadata": {},
     "output_type": "display_data"
    }
   ],
   "source": [
    "cebra.plot_loss(cebra_model)\n"
   ]
  },
  {
   "cell_type": "code",
   "execution_count": null,
   "id": "6dc9ab2b",
   "metadata": {},
   "outputs": [],
   "source": [
    "valid_discrete_label.shape"
   ]
  },
  {
   "cell_type": "code",
   "execution_count": null,
   "id": "014a555c",
   "metadata": {},
   "outputs": [],
   "source": [
    "\n",
    "goodness_of_fit = cebra.sklearn.metrics.infonce_loss(cebra_model,\n",
    "                                                     valid_data,\n",
    "                                                     valid_discrete_label,\n",
    "                                                     num_batches=5)\n",
    "\n"
   ]
  },
  {
   "cell_type": "code",
   "execution_count": 153,
   "id": "79071377",
   "metadata": {},
   "outputs": [],
   "source": [
    "\n",
    "decoder = cebra.KNNDecoder()\n",
    "decoder.fit(train_embedding,train_continuous_label)\n",
    "prediction = decoder.predict(valid_embedding)\n"
   ]
  },
  {
   "cell_type": "code",
   "execution_count": 154,
   "id": "26df2686",
   "metadata": {},
   "outputs": [],
   "source": [
    "score = decoder.score(valid_embedding, valid_continous_label)\n"
   ]
  },
  {
   "cell_type": "code",
   "execution_count": 155,
   "id": "783015a9",
   "metadata": {},
   "outputs": [
    {
     "data": {
      "text/plain": [
       "-0.3487574086813644"
      ]
     },
     "execution_count": 155,
     "metadata": {},
     "output_type": "execute_result"
    }
   ],
   "source": [
    "score"
   ]
  },
  {
   "cell_type": "code",
   "execution_count": null,
   "id": "cadaf5c8",
   "metadata": {},
   "outputs": [],
   "source": []
  }
 ],
 "metadata": {
  "kernelspec": {
   "display_name": "Python 3 (ipykernel)",
   "language": "python",
   "name": "python3"
  },
  "language_info": {
   "codemirror_mode": {
    "name": "ipython",
    "version": 3
   },
   "file_extension": ".py",
   "mimetype": "text/x-python",
   "name": "python",
   "nbconvert_exporter": "python",
   "pygments_lexer": "ipython3",
   "version": "3.8.0"
  }
 },
 "nbformat": 4,
 "nbformat_minor": 5
}
