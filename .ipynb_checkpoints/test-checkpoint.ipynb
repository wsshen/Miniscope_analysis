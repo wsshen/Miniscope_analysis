{
 "cells": [
  {
   "cell_type": "code",
   "execution_count": 8,
   "id": "110ff4b3-84c3-45b8-bb35-53aea28c4ee0",
   "metadata": {},
   "outputs": [],
   "source": [
    "import pandas as pd\n",
    "import numpy as np\n"
   ]
  },
  {
   "cell_type": "code",
   "execution_count": 2,
   "id": "95eb12ce-a820-4844-8c25-2c7e14d6da99",
   "metadata": {},
   "outputs": [
    {
     "name": "stdout",
     "output_type": "stream",
     "text": [
      "  id   name  age  decision\n",
      "0  1  Fares   32      True\n",
      "1  2  Elena   23     False\n",
      "2  3   Doug   40      True\n"
     ]
    }
   ],
   "source": [
    "employees_df = pd.DataFrame([\n",
    "    ['1', 'Fares', 32, True],\n",
    "    ['2', 'Elena', 23, False],\n",
    "    ['3', 'Doug', 40, True]])\n",
    "employees_df.columns = ['id', 'name', 'age', 'decision']\n",
    "print(employees_df)"
   ]
  },
  {
   "cell_type": "code",
   "execution_count": 7,
   "id": "8b8128fc-c4d3-4a09-b094-6cc24d99f459",
   "metadata": {},
   "outputs": [
    {
     "data": {
      "text/plain": [
       "0     True\n",
       "1    False\n",
       "2     True\n",
       "Name: decision, dtype: bool"
      ]
     },
     "execution_count": 7,
     "metadata": {},
     "output_type": "execute_result"
    }
   ],
   "source": [
    "employees_df.iloc[:,3]"
   ]
  },
  {
   "cell_type": "code",
   "execution_count": 9,
   "id": "fce326f8-f650-4e47-8065-034cbc327639",
   "metadata": {},
   "outputs": [],
   "source": [
    "matrix_1 = np.array([[11, 12, 13], [21, 22, 23], [31, 32, 33]])"
   ]
  },
  {
   "cell_type": "code",
   "execution_count": 11,
   "id": "7408b67d-d578-4a70-8444-7a1d13694ccc",
   "metadata": {},
   "outputs": [
    {
     "data": {
      "text/plain": [
       "<function ndarray.transpose>"
      ]
     },
     "execution_count": 11,
     "metadata": {},
     "output_type": "execute_result"
    }
   ],
   "source": [
    "matrix_1.transpose"
   ]
  },
  {
   "cell_type": "code",
   "execution_count": 12,
   "id": "c71cf30d-01e6-4139-843e-c263d5556936",
   "metadata": {},
   "outputs": [],
   "source": [
    "var_1 = 1\n",
    "var_2 = 2\n",
    "var_1, var_2 = var_2, var_1"
   ]
  },
  {
   "cell_type": "code",
   "execution_count": 13,
   "id": "fcee02ba-032b-43fd-b87d-e9a270b586e2",
   "metadata": {},
   "outputs": [
    {
     "data": {
      "text/plain": [
       "2"
      ]
     },
     "execution_count": 13,
     "metadata": {},
     "output_type": "execute_result"
    }
   ],
   "source": [
    "var_1"
   ]
  },
  {
   "cell_type": "code",
   "execution_count": null,
   "id": "9b42d3f2-75e4-4312-a42e-b25cfceade7c",
   "metadata": {},
   "outputs": [],
   "source": []
  }
 ],
 "metadata": {
  "kernelspec": {
   "display_name": "Python 3 (ipykernel)",
   "language": "python",
   "name": "python3"
  },
  "language_info": {
   "codemirror_mode": {
    "name": "ipython",
    "version": 3
   },
   "file_extension": ".py",
   "mimetype": "text/x-python",
   "name": "python",
   "nbconvert_exporter": "python",
   "pygments_lexer": "ipython3",
   "version": "3.11.6"
  }
 },
 "nbformat": 4,
 "nbformat_minor": 5
}
